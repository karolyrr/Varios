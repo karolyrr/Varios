{
 "cells": [
  {
   "cell_type": "code",
   "execution_count": 1,
   "metadata": {},
   "outputs": [],
   "source": [
    "import numpy as np "
   ]
  },
  {
   "cell_type": "code",
   "execution_count": 2,
   "metadata": {},
   "outputs": [],
   "source": [
    "def vel1(m,v1,v2):\n",
    "    \n",
    "    return (v1*(1-m)+2*v2*m)/(1+m)\n",
    "\n",
    "def vel2(m,v1,v2):\n",
    "    \n",
    "    return (v2*(m-1)+2*v1*1)/(1+m)\n",
    "\n",
    "def contador(m,v1,v2):\n",
    "\n",
    "    contador = 0\n",
    "\n",
    "    while abs(v1)>=v2: \n",
    "\n",
    "        v1_c = vel1(m,v1,v2)\n",
    "        v2_c = vel2(m,v1,v2)\n",
    "        v1=-v1_c\n",
    "        v2=v2_c\n",
    "        contador+=2\n",
    "\n",
    "    return contador-1\n",
    "\n",
    "def calculapi(cont,m):\n",
    "    \n",
    "    return cont/(0.1*m)"
   ]
  },
  {
   "cell_type": "code",
   "execution_count": 6,
   "metadata": {},
   "outputs": [
    {
     "name": "stdout",
     "output_type": "stream",
     "text": [
      " Para m=10kg hay  9  y el valor de obtenido es  9.0 \n",
      " Para m=100kg hay  31  y el valor de obtenido es  3.1 \n",
      " Para m=100^2kg hay  313  y el valor de obtenido es  3.13 \n",
      " Para m=100^3kg hay  3141  y el valor de obtenido es  3.141 \n",
      "\n"
     ]
    }
   ],
   "source": [
    "#-----------------Condiciones iniciales-------------------------------------------\n",
    "m = 10\n",
    "v1 = 0\n",
    "v2 = -1\n",
    "\n",
    "choques_10 = contador(m,v1,v2)\n",
    "pi1=calculapi(choques_10,m)\n",
    "#-----------------Condiciones iniciales-------------------------------------------\n",
    "m = 100\n",
    "v1 = 0\n",
    "v2 = -1\n",
    "\n",
    "choques_100 = contador(m,v1,v2)\n",
    "pi2=calculapi(choques_100,m)\n",
    "#-----------------Condiciones iniciales-------------------------------------------\n",
    "m = 100**2\n",
    "v1 = 0\n",
    "v2 = -1\n",
    "\n",
    "choques_1002 = contador(m,v1,v2)\n",
    "pi3=calculapi(choques_1002,m)\n",
    "#-----------------Condiciones iniciales-------------------------------------------\n",
    "m = 100**3\n",
    "v1 = 0\n",
    "v2 = -1\n",
    "\n",
    "choques_1003 = contador(m,v1,v2)\n",
    "pi4=calculapi(choques_1003,m)\n",
    "\n",
    "print(' Para m=10kg hay ',choques_10,' y el valor de obtenido es ',pi1,\"\\n\",\n",
    "      'Para m=100kg hay ',choques_100,' y el valor de obtenido es ',pi2,\"\\n\",\n",
    "      'Para m=100^2kg hay ',choques_1002,' y el valor de obtenido es ',pi3,\"\\n\",\n",
    "      'Para m=100^3kg hay ',choques_1003,' y el valor de obtenido es ',pi4,\"\\n\")"
   ]
  },
  {
   "cell_type": "code",
   "execution_count": null,
   "metadata": {},
   "outputs": [],
   "source": []
  }
 ],
 "metadata": {
  "kernelspec": {
   "display_name": "Python 3",
   "language": "python",
   "name": "python3"
  },
  "language_info": {
   "codemirror_mode": {
    "name": "ipython",
    "version": 3
   },
   "file_extension": ".py",
   "mimetype": "text/x-python",
   "name": "python",
   "nbconvert_exporter": "python",
   "pygments_lexer": "ipython3",
   "version": "3.8.5"
  }
 },
 "nbformat": 4,
 "nbformat_minor": 4
}
